{
 "cells": [
  {
   "cell_type": "markdown",
   "metadata": {},
   "source": [
    "# Testbench"
   ]
  },
  {
   "cell_type": "code",
   "execution_count": 1,
   "metadata": {},
   "outputs": [],
   "source": [
    "import numpy as np\n",
    "import pandas as pd\n",
    "import matplotlib.pyplot as plt\n",
    "import seaborn as sns\n",
    "\n",
    "from sklearn.covariance import EmpiricalCovariance, LedoitWolf\n",
    "from warnings import warn\n",
    "\n",
    "import covariance_DRO\n",
    "\n",
    "sns.set(rc={'figure.figsize':(8,4)})\n",
    "\n",
    "import warnings\n",
    "warnings.filterwarnings(\"ignore\")"
   ]
  },
  {
   "cell_type": "code",
   "execution_count": 2,
   "metadata": {},
   "outputs": [],
   "source": [
    "df = pd.read_csv('data/48_Industry_Portfolios.CSV', header=6, nrows=1132)"
   ]
  },
  {
   "cell_type": "code",
   "execution_count": 3,
   "metadata": {},
   "outputs": [],
   "source": [
    "df['year'] = (df['Unnamed: 0']/100).astype(int)\n",
    "df['month'] = (df['Unnamed: 0']%100).astype(int)"
   ]
  },
  {
   "cell_type": "code",
   "execution_count": 4,
   "metadata": {},
   "outputs": [],
   "source": [
    "train_start = 1990\n",
    "train_end = 2010\n",
    "test_end = 2020"
   ]
  },
  {
   "cell_type": "code",
   "execution_count": 5,
   "metadata": {},
   "outputs": [],
   "source": [
    "train = df.loc[(df.year>=train_start) & (df.year<train_end)]\n",
    "test = df.loc[(df.year>=train_end) & (df.year<test_end)]\n",
    "columns = [c for c in train.columns if c not in ['Unnamed: 0', 'year', 'month']]\n",
    "train_X = train[columns].to_numpy()\n",
    "test_X = test[columns].to_numpy()"
   ]
  },
  {
   "cell_type": "code",
   "execution_count": 6,
   "metadata": {},
   "outputs": [],
   "source": [
    "def portfolio_tester(train, test, cov_estimator, verbose=False):\n",
    "    # estimate covariance matrix and asset allocation\n",
    "    cov = cov_estimator(train)\n",
    "    ones = np.ones((cov.shape[0],1))\n",
    "    w = (cov@ones)/(ones.T@cov@ones)\n",
    "    # calculate portfolio returns and metrics\n",
    "    portfolio_returns = test@w\n",
    "    std = portfolio_returns.std()\n",
    "    mean = portfolio_returns.mean()\n",
    "    sharpe = mean/std\n",
    "    if verbose:\n",
    "        print('Mean: {}'.format(mean))\n",
    "        print('Std: {}'.format(std))\n",
    "        print('Sharpe: {}'.format(sharpe))\n",
    "    return mean, std, sharpe"
   ]
  },
  {
   "cell_type": "markdown",
   "metadata": {},
   "source": [
    "# Defining Leave-1-Out Covariance Estimator"
   ]
  },
  {
   "cell_type": "code",
   "execution_count": 7,
   "metadata": {},
   "outputs": [],
   "source": [
    "def l1o_cv(X, method, epsilon_candidates):\n",
    "    best_epsilon, best_std = None, float('inf')\n",
    "    for e in epsilon_candidates:\n",
    "        returns = []\n",
    "        for i in range(X.shape[0]):\n",
    "            # train-validation split\n",
    "            val = np.expand_dims(X[i], 0)\n",
    "            train = X[np.arange(0, X.shape[0], 1) != i]\n",
    "            # find the weight\n",
    "            cov = covariance_DRO.estimate_cov(EmpiricalCovariance(assume_centered=False).fit(train).covariance_, e, method)\n",
    "            ones = np.ones((cov.shape[0],1))\n",
    "            w = (cov@ones)/(ones.T@cov@ones)\n",
    "            # calculate portfolio returns and metrics\n",
    "            returns.append(val@w)\n",
    "        # keep track of best epsilon\n",
    "        if np.std(returns) < best_std:\n",
    "            best_std = np.std(returns)\n",
    "            best_epsilon = e\n",
    "    \n",
    "    # warn if best epsilon is on border\n",
    "    if best_epsilon==epsilon_candidates[0]:\n",
    "        warn('Epsilon on left side of interval')\n",
    "    if best_epsilon==epsilon_candidates[-1]:\n",
    "        warn('Epsilon on right side of interval')\n",
    "    # return estimated covariance matrix\n",
    "    return covariance_DRO.estimate_cov(EmpiricalCovariance(assume_centered=False).fit(X).covariance_, best_epsilon, method)\n",
    "\n",
    "def linear_shrink(X, epsilon_candidates):\n",
    "    best_epsilon, best_std = None, float('inf')\n",
    "    for e in epsilon_candidates:\n",
    "        returns = []\n",
    "        for i in range(X.shape[0]):\n",
    "            # train-validation split\n",
    "            val = np.expand_dims(X[i], 0)\n",
    "            train = X[np.arange(0, X.shape[0], 1) != i]\n",
    "            # find the weight\n",
    "            emp_cov = EmpiricalCovariance(assume_centered=False).fit(train).covariance_\n",
    "            mu = np.sum(np.trace(emp_cov)) / emp_cov.shape[0]\n",
    "            cov = (1. - e) * emp_cov\n",
    "            cov.flat[::emp_cov.shape[0] + 1] += e * mu\n",
    "            \n",
    "            ones = np.ones((cov.shape[0],1))\n",
    "            w = (cov@ones)/(ones.T@cov@ones)\n",
    "            # calculate portfolio returns and metrics\n",
    "            returns.append(val@w)\n",
    "        # keep track of best epsilon\n",
    "        if np.std(returns) < best_std:\n",
    "            best_std = np.std(returns)\n",
    "            best_epsilon = e\n",
    "    \n",
    "    # warn if best epsilon is on border\n",
    "    if best_epsilon==epsilon_candidates[0]:\n",
    "        warn('Epsilon on left side of interval')\n",
    "    if best_epsilon==epsilon_candidates[-1]:\n",
    "        warn('Epsilon on right side of interval')\n",
    "    # return estimated covariance matrix\n",
    "    emp_cov = EmpiricalCovariance(assume_centered=False).fit(X).covariance_\n",
    "    mu = np.sum(np.trace(emp_cov)) / emp_cov.shape[0]\n",
    "    cov = (1. - best_epsilon) * emp_cov\n",
    "    cov.flat[::emp_cov.shape[0] + 1] += best_epsilon * mu\n",
    "    return cov"
   ]
  },
  {
   "cell_type": "markdown",
   "metadata": {},
   "source": [
    "# Testing Performance"
   ]
  },
  {
   "cell_type": "code",
   "execution_count": 8,
   "metadata": {},
   "outputs": [
    {
     "name": "stdout",
     "output_type": "stream",
     "text": [
      "\u001b[1mEmpirical Covariance:\u001b[0m\n",
      "Mean: 1.0657975244492974\n",
      "Std: 4.359360700980689\n",
      "Sharpe: 0.2444848218706779\n",
      "\n",
      "\u001b[1mLinear Shrikage:\u001b[0m\n",
      "Mean: 1.060513888888889\n",
      "Std: 4.082322950563175\n",
      "Sharpe: 0.2597819677011556\n",
      "\n",
      "\u001b[1mLedoit-Wolf:\u001b[0m\n",
      "Mean: 1.0657857637134516\n",
      "Std: 4.358729834313328\n",
      "Sharpe: 0.24451750951005086\n"
     ]
    }
   ],
   "source": [
    "print('\\033[1mEmpirical Covariance:\\033[0m')\n",
    "mean, std, sharpe = portfolio_tester(train_X, test_X, lambda X: EmpiricalCovariance(assume_centered=False).fit(X).covariance_, verbose=True)\n",
    "print('\\n\\033[1mLinear Shrikage:\\033[0m')\n",
    "mean, std, sharpe = portfolio_tester(train_X, test_X, lambda X: linear_shrink(X, np.logspace(-5,0,50)), verbose=True)\n",
    "print('\\n\\033[1mLedoit-Wolf:\\033[0m')\n",
    "mean, std, sharpe = portfolio_tester(train_X, test_X, lambda X: LedoitWolf(assume_centered=False).fit(X).covariance_, verbose=True)"
   ]
  },
  {
   "cell_type": "code",
   "execution_count": 9,
   "metadata": {},
   "outputs": [
    {
     "name": "stdout",
     "output_type": "stream",
     "text": [
      "\u001b[1mWasserstein:\u001b[0m\n",
      "Mean: 1.0647374220729386\n",
      "Std: 4.255862242923764\n",
      "Sharpe: 0.25018136426837617\n",
      "\n",
      "\u001b[1mKullback-Leibler:\u001b[0m\n",
      "Mean: 1.0605529779581753\n",
      "Std: 4.082658918249594\n",
      "Sharpe: 0.2597701642959874\n",
      "\n",
      "\u001b[1mFisher-Rao:\u001b[0m\n",
      "Mean: 1.0617239756343908\n",
      "Std: 4.116595704640032\n",
      "Sharpe: 0.25791310388767735\n"
     ]
    }
   ],
   "source": [
    "print('\\033[1mWasserstein:\\033[0m')\n",
    "mean, std, sharpe = portfolio_tester(train_X, test_X, lambda X: l1o_cv(X, 'Wasserstein', np.logspace(-5,4,50)), verbose=True)\n",
    "print('\\n\\033[1mKullback-Leibler:\\033[0m')\n",
    "mean, std, sharpe = portfolio_tester(train_X, test_X, lambda X: l1o_cv(X, 'KLdirect', np.logspace(-5,2,50)), verbose=True)\n",
    "print('\\n\\033[1mFisher-Rao:\\033[0m')\n",
    "mean, std, sharpe = portfolio_tester(train_X, test_X, lambda X: l1o_cv(X, 'Fisher-Rao', np.logspace(-5,2,50)), verbose=True)"
   ]
  }
 ],
 "metadata": {
  "kernelspec": {
   "display_name": "Python 3",
   "language": "python",
   "name": "python3"
  },
  "language_info": {
   "codemirror_mode": {
    "name": "ipython",
    "version": 3
   },
   "file_extension": ".py",
   "mimetype": "text/x-python",
   "name": "python",
   "nbconvert_exporter": "python",
   "pygments_lexer": "ipython3",
   "version": "3.8.5"
  }
 },
 "nbformat": 4,
 "nbformat_minor": 4
}
