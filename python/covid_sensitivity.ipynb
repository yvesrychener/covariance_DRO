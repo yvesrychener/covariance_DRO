{
 "cells": [
  {
   "cell_type": "code",
   "execution_count": 1,
   "id": "careful-hearing",
   "metadata": {},
   "outputs": [],
   "source": [
    "import pandas as pd\n",
    "import numpy as np\n",
    "import matplotlib.pyplot as plt\n",
    "\n",
    "from datetime import datetime\n",
    "\n",
    "import warnings\n",
    "warnings.filterwarnings(\"ignore\")"
   ]
  },
  {
   "cell_type": "markdown",
   "id": "center-warrior",
   "metadata": {},
   "source": [
    "# Data Sources\n",
    "\n",
    "https://ourworldindata.org/coronavirus-source-data <br>\n",
    "https://www.kaggle.com/paultimothymooney/covid19-containment-and-mitigation-measures\n",
    "\n",
    "# Other resources\n",
    "https://www.jstor.org/stable/pdf/2983678.pdf?casa_token=ndhMP8_FyQcAAAAA:VdJ0dURQTcu13ymLQFa87zyAfCi4ga9JOkNwJbL1i0VRaPhFw1hwYoOIf0lSc7lg6_b8SUNCm4_uiF3wOJdhcuHYSzjGxtYa63z--GTmZbv-Ot0tE5g <br>\n",
    "https://arxiv.org/pdf/0711.0189.pdf <br>\n",
    "https://www.sciencedirect.com/science/article/pii/S1201971220303179#bib0010 <br>\n",
    "reason for the decrease in august? https://eacea.ec.europa.eu/national-policies/eurydice/sites/eurydice/files/school_calendar_2020_21_0.pdf"
   ]
  },
  {
   "cell_type": "code",
   "execution_count": 2,
   "id": "mexican-control",
   "metadata": {},
   "outputs": [],
   "source": [
    "EU = ['Belgium', \n",
    "      'Bulgaria', \n",
    "      'Denmark',\n",
    "      'Germany',\n",
    "      'Estonia',\n",
    "      'Finland',\n",
    "      'France',\n",
    "      'Greece',\n",
    "      'Ireland',\n",
    "      'Italy',\n",
    "      'Croatia',\n",
    "      'Latvia',\n",
    "      'Lithuania',\n",
    "      'Luxembourg',\n",
    "      'Malta',\n",
    "      'Netherlands',\n",
    "      'Austria',\n",
    "      'Poland',\n",
    "      'Portugal',\n",
    "      'Romania',\n",
    "      'Sweden',\n",
    "      'Slovakia',\n",
    "      'Slovenia',\n",
    "      'Spain',\n",
    "      'Czechia',\n",
    "      'Hungary',\n",
    "      'Cyprus']"
   ]
  },
  {
   "cell_type": "code",
   "execution_count": 3,
   "id": "creative-western",
   "metadata": {},
   "outputs": [],
   "source": [
    "df = pd.read_csv('owid-covid-data.csv')\n",
    "df = df[df.location.isin(EU)]"
   ]
  },
  {
   "cell_type": "code",
   "execution_count": 4,
   "id": "wooden-married",
   "metadata": {},
   "outputs": [],
   "source": [
    "data = df.pivot(index='date', columns='iso_code', values='new_cases').fillna(0)"
   ]
  },
  {
   "cell_type": "code",
   "execution_count": 5,
   "id": "multiple-grace",
   "metadata": {},
   "outputs": [],
   "source": [
    "data = np.sqrt(data).diff().dropna()"
   ]
  },
  {
   "cell_type": "markdown",
   "id": "binary-hayes",
   "metadata": {},
   "source": [
    "# Study of Network Connectedness"
   ]
  },
  {
   "cell_type": "code",
   "execution_count": 6,
   "id": "stable-philadelphia",
   "metadata": {},
   "outputs": [],
   "source": [
    "import networkx as nx"
   ]
  },
  {
   "cell_type": "code",
   "execution_count": 7,
   "id": "approximate-evaluation",
   "metadata": {},
   "outputs": [],
   "source": [
    "def average_clustering(dat, edge_thresh=0.5):\n",
    "    W = ((dat.corr()-np.eye(len(dat.corr())))>edge_thresh).fillna(0)\n",
    "    d = W.sum(axis=1)\n",
    "    W_filtered = W[d>0][(d[d>0].index.tolist())]\n",
    "    G = nx.from_numpy_array(W_filtered.to_numpy())\n",
    "    clustering = nx.clustering(G)\n",
    "    return np.mean(list(clustering.values()))"
   ]
  },
  {
   "cell_type": "code",
   "execution_count": 8,
   "id": "mysterious-spanish",
   "metadata": {},
   "outputs": [],
   "source": [
    "N = len(data)\n",
    "window_size = 30"
   ]
  },
  {
   "cell_type": "code",
   "execution_count": 9,
   "id": "handmade-angel",
   "metadata": {
    "scrolled": true
   },
   "outputs": [],
   "source": [
    "start_date, clustering = [], []\n",
    "for start in range(0, N-window_size):\n",
    "    dat = data.iloc[start:start+window_size]\n",
    "    start_date.append(dat.index[-1])#dat.index[int(window_size/2)])\n",
    "    clustering.append(average_clustering(dat))"
   ]
  },
  {
   "cell_type": "code",
   "execution_count": 10,
   "id": "color-awareness",
   "metadata": {},
   "outputs": [
    {
     "data": {
      "image/png": "[encoded data removed]",
      "text/plain": [
       "<Figure size 432x288 with 1 Axes>"
      ]
     },
     "metadata": {
      "needs_background": "light"
     },
     "output_type": "display_data"
    }
   ],
   "source": [
    "plt.plot([datetime.strptime(date, '%Y-%m-%d') for date in start_date], clustering)\n",
    "plt.xlabel('Middle Date of 1 Month Interval')\n",
    "plt.ylabel('Average Connectedness')\n",
    "plt.title('Connection of Coronavirus Infections in Europe');\n",
    "plt.ylim((-0.05,1))\n",
    "\n",
    "clustering_unshrunk = clustering"
   ]
  },
  {
   "cell_type": "code",
   "execution_count": 11,
   "id": "institutional-national",
   "metadata": {},
   "outputs": [],
   "source": [
    "import covariance_DRO\n",
    "\n",
    "def correlation_from_covariance(covariance):\n",
    "    v = np.sqrt(np.diag(covariance))\n",
    "    outer_v = np.outer(v, v)\n",
    "    correlation = covariance / outer_v\n",
    "    correlation[covariance == 0] = 0\n",
    "    return correlation\n",
    "\n",
    "def average_clustering_shrunk(dat, edge_thresh=0.5, method='Fisher-Rao', radius=1e-2):\n",
    "    cov = dat.cov()\n",
    "    cov_filtered = cov[cov.sum(axis=1)>0][(cov.sum(axis=1)[cov.sum(axis=1)>0].index.tolist())]\n",
    "    cov_shrunk = np.real(covariance_DRO.estimate_cov(cov_filtered.to_numpy(), radius, method))\n",
    "    if np.any(np.isnan(correlation_from_covariance(cov_shrunk)-np.eye(len(cov_shrunk)))):\n",
    "        return np.nan\n",
    "    W = correlation_from_covariance(cov_shrunk)-np.eye(len(cov_shrunk))>edge_thresh\n",
    "    G = nx.from_numpy_array(W)\n",
    "    clustering = nx.clustering(G)\n",
    "    return np.mean(list(clustering.values()))"
   ]
  },
  {
   "cell_type": "code",
   "execution_count": 12,
   "id": "academic-provider",
   "metadata": {},
   "outputs": [],
   "source": [
    "def connectedness(method='Fisher-Rao', radius=0.3, edge_thresh=0.5):\n",
    "    start_date, clustering = [], []\n",
    "    for start in range(0, N-window_size):\n",
    "        dat = data.iloc[start:start+window_size]\n",
    "        start_date.append(dat.index[-1])#dat.index[int(window_size/2)])\n",
    "        clustering.append(average_clustering_shrunk(dat, radius=radius, method=method))\n",
    "    return pd.DataFrame(data={\n",
    "        'date': start_date,\n",
    "        'connectedness': clustering\n",
    "    })"
   ]
  },
  {
   "cell_type": "code",
   "execution_count": 13,
   "id": "marine-dealer",
   "metadata": {},
   "outputs": [],
   "source": [
    "def create_matrix(method, radii):\n",
    "    results = np.zeros((len(radii), len(radii)))\n",
    "    for i in range(len(radii)):\n",
    "        df1 = connectedness(method=method, radius=radii[i])\n",
    "        for j in range(i+1,len(radii)):\n",
    "            df2 = connectedness(method=method, radius=radii[j])\n",
    "            res = df1.join(df2.set_index('date'), on='date', lsuffix='_r0', rsuffix='_r1')\n",
    "            d = ((res.connectedness_r0-res.connectedness_r1)**2).mean()\n",
    "            results[i,j]= d\n",
    "            results[j,i]= d\n",
    "    return results"
   ]
  },
  {
   "cell_type": "code",
   "execution_count": null,
   "id": "amino-rabbit",
   "metadata": {},
   "outputs": [],
   "source": [
    "res_fr = create_matrix('Fisher-Rao', np.logspace(-2, 2, num=50))\n",
    "res_ws = create_matrix('Wasserstein', np.logspace(-2, 3, num=50))\n",
    "res_kl = create_matrix('KLdirect', np.logspace(-2, 2, num=50))\n",
    "# from joblib import Parallel, delayed\n",
    "# import multiprocessing\n",
    "# num_cores = multiprocessing.cpu_count()\n",
    "# print(num_cores)\n",
    "\n",
    "# [res_fr, res_ws, res_kl] = Parallel(n_jobs=int(num_cores/2))\\\n",
    "#     (delayed(create_matrix)(name, range_) for name,range_ in zip(['Fisher-Rao','Wasserstein' ]) )"
   ]
  },
  {
   "cell_type": "code",
   "execution_count": null,
   "id": "restricted-fundamentals",
   "metadata": {},
   "outputs": [],
   "source": [
    "fig,axs = plt.subplots(1,3, figsize=(15,5))\n",
    "max_col = np.max([res_fr.max(), res_ws.max(), res_kl.max()])\n",
    "r1 = axs[0].matshow(res_fr, clim=[0,max_col])\n",
    "r2 = axs[1].matshow(res_ws, clim=[0,max_col])\n",
    "#r3 = axs[2].matshow(res_kl, clim=[0,max_col])\n",
    "fig.subplots_adjust(right=0.8)\n",
    "cbar_ax = fig.add_axes([0.85, 0.15, 0.01, 0.7])\n",
    "fig.colorbar(r1, cax=cbar_ax)"
   ]
  },
  {
   "cell_type": "code",
   "execution_count": null,
   "id": "alive-rugby",
   "metadata": {},
   "outputs": [],
   "source": []
  },
  {
   "cell_type": "code",
   "execution_count": null,
   "id": "thick-identifier",
   "metadata": {},
   "outputs": [],
   "source": [
    "def linearMethod(emp_cov, epsilon):\n",
    "    mu = np.trace(emp_cov) / emp_cov.shape[0]\n",
    "    cov = (1.0 - epsilon) * emp_cov\n",
    "    cov.flat[:: emp_cov.shape[0] + 1] += epsilon * mu\n",
    "    return cov\n",
    "\n",
    "def linearMethodDiagonal(emp_cov, epsilon):\n",
    "    mu = np.diag(np.diag(emp_cov))\n",
    "    cov = (1.0 - epsilon) * emp_cov + mu * epsilon\n",
    "    return cov\n",
    "\n",
    "def average_clustering_shrunk_linear(dat, edge_thresh=0.5, epsilon=0.1, diagonal=True):\n",
    "    cov = dat.cov()\n",
    "    cov_filtered = cov[cov.sum(axis=1)>0][(cov.sum(axis=1)[cov.sum(axis=1)>0].index.tolist())]\n",
    "    if diagonal:\n",
    "        cov_shrunk = linearMethodDiagonal(cov_filtered.to_numpy(), epsilon)\n",
    "    else:\n",
    "        cov_shrunk = linearMethod(cov_filtered.to_numpy(), epsilon)\n",
    "    if np.any(np.isnan(correlation_from_covariance(cov_shrunk)-np.eye(len(cov_shrunk)))):\n",
    "        return np.nan\n",
    "    W = correlation_from_covariance(cov_shrunk)-np.eye(len(cov_shrunk))>edge_thresh\n",
    "    G = nx.from_numpy_array(W)\n",
    "    clustering = nx.clustering(G)\n",
    "    return np.mean(list(clustering.values()))\n"
   ]
  },
  {
   "cell_type": "code",
   "execution_count": null,
   "id": "sought-temple",
   "metadata": {},
   "outputs": [],
   "source": [
    "def connectedness_linear(diagonal=True, epsilon=0.3, edge_thresh=0.5):\n",
    "    start_date, clustering = [], []\n",
    "    for start in range(0, N-window_size):\n",
    "        dat = data.iloc[start:start+window_size]\n",
    "        start_date.append(dat.index[-1])#dat.index[int(window_size/2)])\n",
    "        clustering.append(average_clustering_shrunk_linear(dat, epsilon=epsilon, diagonal=diagonal))\n",
    "    return pd.DataFrame(data={\n",
    "        'date': start_date,\n",
    "        'connectedness': clustering})"
   ]
  },
  {
   "cell_type": "code",
   "execution_count": null,
   "id": "protecting-server",
   "metadata": {},
   "outputs": [],
   "source": [
    "def create_matrix_linear(diagonal, radii):\n",
    "    results = np.zeros((len(radii), len(radii)))\n",
    "    for i in range(len(radii)):\n",
    "        df1 = connectedness_linear(diagonal=diagonal, epsilon=radii[i])\n",
    "        for j in range(i+1,len(radii)):\n",
    "            df2 = connectedness_linear(diagonal=diagonal, epsilon=radii[j])\n",
    "            res = df1.join(df2.set_index('date'), on='date', lsuffix='_r0', rsuffix='_r1')\n",
    "            d = ((res.connectedness_r0-res.connectedness_r1)**2).mean()\n",
    "            results[i,j]= d\n",
    "            results[j,i]= d\n",
    "    return results"
   ]
  },
  {
   "cell_type": "code",
   "execution_count": null,
   "id": "educated-subsection",
   "metadata": {},
   "outputs": [],
   "source": [
    "res_ld = create_matrix_linear(True, np.logspace(-4,0))\n",
    "res_l = create_matrix_linear(False, np.logspace(-4,0))"
   ]
  },
  {
   "cell_type": "code",
   "execution_count": null,
   "id": "resistant-faculty",
   "metadata": {},
   "outputs": [],
   "source": [
    "fig,axs = plt.subplots(2,3, figsize=(15,10))\n",
    "max_col = np.max([res_fr.max(), res_ws.max(), res_kl.max(), res_ld.max(), res_l.max()])\n",
    "r1 = axs[0][0].matshow(res_fr, clim=[0,max_col])\n",
    "r2 = axs[0][1].matshow(res_ws, clim=[0,max_col])\n",
    "r3 = axs[0][2].matshow(res_kl, clim=[0,max_col])\n",
    "r4 = axs[1][0].matshow(res_ld, clim=[0,max_col])\n",
    "r5 = axs[1][2].matshow(res_l, clim=[0,max_col])\n",
    "fig.subplots_adjust(right=0.8)\n",
    "cbar_ax = fig.add_axes([0.81, 0.15, 0.01, 0.7])\n",
    "fig.colorbar(r4, cax=cbar_ax)\n",
    "\n",
    "for i in range(3):\n",
    "    axs[0][i].set_xticks(np.linspace(0, 50, num=5))\n",
    "    axs[0][i].set_xticklabels(np.logspace(-2, 3, num=5) if i==3 else np.logspace(-2, 2, num=5))\n",
    "    axs[0][i].set_yticks(np.linspace(0, 50, num=5))\n",
    "    axs[0][i].set_yticklabels(np.logspace(-2, 3, num=5) if i==3 else np.logspace(-2, 2, num=5))\n",
    "    \n",
    "for i in range(3):\n",
    "    if i==1:\n",
    "        continue\n",
    "    axs[1][i].set_xticks(np.linspace(0, 50, num=5))\n",
    "    axs[1][i].set_xticklabels(np.logspace(-4, 0, num=5))\n",
    "    axs[1][i].set_yticks(np.linspace(0, 50, num=5))\n",
    "    axs[1][i].set_yticklabels(np.logspace(-4, 0, num=5))\n",
    "    \n",
    "axs[1][1].axis('off')\n",
    "axs[0][0].set_title('Fisher-Rao')\n",
    "axs[0][1].set_title('Wasserstein')\n",
    "axs[0][2].set_title('Kullback-Leibler')\n",
    "axs[1][0].set_title('Linear Diagonal')\n",
    "axs[1][2].set_title('Linear')\n",
    "\n",
    "plt.savefig('covid_sensitivity.pdf')"
   ]
  },
  {
   "cell_type": "code",
   "execution_count": null,
   "id": "conscious-acoustic",
   "metadata": {},
   "outputs": [],
   "source": []
  }
 ],
 "metadata": {
  "kernelspec": {
   "display_name": "Python 3",
   "language": "python",
   "name": "python3"
  },
  "language_info": {
   "codemirror_mode": {
    "name": "ipython",
    "version": 3
   },
   "file_extension": ".py",
   "mimetype": "text/x-python",
   "name": "python",
   "nbconvert_exporter": "python",
   "pygments_lexer": "ipython3",
   "version": "3.8.8"
  }
 },
 "nbformat": 4,
 "nbformat_minor": 5
}
