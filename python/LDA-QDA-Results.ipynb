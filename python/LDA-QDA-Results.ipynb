{
 "cells": [
  {
   "cell_type": "code",
   "execution_count": null,
   "id": "3b550b4c-d464-4b8c-998c-2c727f6d085e",
   "metadata": {
    "tags": []
   },
   "outputs": [
    {
     "name": "stdout",
     "output_type": "stream",
     "text": [
      "LDA on BANKNOTE_ACCURACY:\n"
     ]
    },
    {
     "data": {
      "text/html": [
       "<style  type=\"text/css\" >\n",
       "#T_7a5ab_row0_col4{\n",
       "            font-weight:  bold;\n",
       "             text-decoration:  underline;\n",
       "        }</style><table id=\"T_7a5ab_\" ><thead>    <tr>        <th class=\"blank level0\" ></th>        <th class=\"col_heading level0 col0\" >Dataset</th>        <th class=\"col_heading level0 col1\" >Sample</th>        <th class=\"col_heading level0 col2\" >Linear</th>        <th class=\"col_heading level0 col3\" >Wasserstein</th>        <th class=\"col_heading level0 col4\" >KL</th>        <th class=\"col_heading level0 col5\" >FR</th>        <th class=\"col_heading level0 col6\" >NLLW</th>    </tr></thead><tbody>\n",
       "                <tr>\n",
       "                        <th id=\"T_7a5ab_level0_row0\" class=\"row_heading level0 row0\" >8</th>\n",
       "                        <td id=\"T_7a5ab_row0_col0\" class=\"data row0 col0\" >0.50</td>\n",
       "                        <td id=\"T_7a5ab_row0_col1\" class=\"data row0 col1\" >0.9751(0.0005)</td>\n",
       "                        <td id=\"T_7a5ab_row0_col2\" class=\"data row0 col2\" >0.9754(0.0005)</td>\n",
       "                        <td id=\"T_7a5ab_row0_col3\" class=\"data row0 col3\" >0.9761(0.0005)</td>\n",
       "                        <td id=\"T_7a5ab_row0_col4\" class=\"data row0 col4\" >0.9763(0.0005)</td>\n",
       "                        <td id=\"T_7a5ab_row0_col5\" class=\"data row0 col5\" >0.9759(0.0005)</td>\n",
       "                        <td id=\"T_7a5ab_row0_col6\" class=\"data row0 col6\" >0.9510(0.0011)</td>\n",
       "            </tr>\n",
       "    </tbody></table>"
      ],
      "text/plain": [
       "<pandas.io.formats.style.Styler at 0x275cd2aa4c0>"
      ]
     },
     "metadata": {},
     "output_type": "display_data"
    },
    {
     "name": "stdout",
     "output_type": "stream",
     "text": [
      "LDA on BANKNOTE_F1:\n"
     ]
    },
    {
     "data": {
      "text/html": [
       "<style  type=\"text/css\" >\n",
       "#T_233bd_row0_col4{\n",
       "            font-weight:  bold;\n",
       "             text-decoration:  underline;\n",
       "        }</style><table id=\"T_233bd_\" ><thead>    <tr>        <th class=\"blank level0\" ></th>        <th class=\"col_heading level0 col0\" >Dataset</th>        <th class=\"col_heading level0 col1\" >Sample</th>        <th class=\"col_heading level0 col2\" >Linear</th>        <th class=\"col_heading level0 col3\" >Wasserstein</th>        <th class=\"col_heading level0 col4\" >KL</th>        <th class=\"col_heading level0 col5\" >FR</th>        <th class=\"col_heading level0 col6\" >NLLW</th>    </tr></thead><tbody>\n",
       "                <tr>\n",
       "                        <th id=\"T_233bd_level0_row0\" class=\"row_heading level0 row0\" >8</th>\n",
       "                        <td id=\"T_233bd_row0_col0\" class=\"data row0 col0\" >0.50</td>\n",
       "                        <td id=\"T_233bd_row0_col1\" class=\"data row0 col1\" >0.9727(0.0006)</td>\n",
       "                        <td id=\"T_233bd_row0_col2\" class=\"data row0 col2\" >0.9731(0.0006)</td>\n",
       "                        <td id=\"T_233bd_row0_col3\" class=\"data row0 col3\" >0.9738(0.0006)</td>\n",
       "                        <td id=\"T_233bd_row0_col4\" class=\"data row0 col4\" >0.9741(0.0006)</td>\n",
       "                        <td id=\"T_233bd_row0_col5\" class=\"data row0 col5\" >0.9736(0.0006)</td>\n",
       "                        <td id=\"T_233bd_row0_col6\" class=\"data row0 col6\" >0.9454(0.0011)</td>\n",
       "            </tr>\n",
       "    </tbody></table>"
      ],
      "text/plain": [
       "<pandas.io.formats.style.Styler at 0x275ce1bc8b0>"
      ]
     },
     "metadata": {},
     "output_type": "display_data"
    },
    {
     "name": "stdout",
     "output_type": "stream",
     "text": [
      "LDA on BREAST_CANCER_ACCURACY:\n"
     ]
    },
    {
     "data": {
      "text/html": [
       "<style  type=\"text/css\" >\n",
       "#T_64c67_row0_col1,#T_64c67_row0_col3{\n",
       "            font-weight:  bold;\n",
       "             text-decoration:  underline;\n",
       "        }</style><table id=\"T_64c67_\" ><thead>    <tr>        <th class=\"blank level0\" ></th>        <th class=\"col_heading level0 col0\" >Dataset</th>        <th class=\"col_heading level0 col1\" >Sample</th>        <th class=\"col_heading level0 col2\" >Linear</th>        <th class=\"col_heading level0 col3\" >Wasserstein</th>        <th class=\"col_heading level0 col4\" >KL</th>        <th class=\"col_heading level0 col5\" >FR</th>        <th class=\"col_heading level0 col6\" >NLLW</th>    </tr></thead><tbody>\n",
       "                <tr>\n",
       "                        <th id=\"T_64c67_level0_row0\" class=\"row_heading level0 row0\" >8</th>\n",
       "                        <td id=\"T_64c67_row0_col0\" class=\"data row0 col0\" >0.50</td>\n",
       "                        <td id=\"T_64c67_row0_col1\" class=\"data row0 col1\" >0.9520(0.0011)</td>\n",
       "                        <td id=\"T_64c67_row0_col2\" class=\"data row0 col2\" >0.9365(0.0015)</td>\n",
       "                        <td id=\"T_64c67_row0_col3\" class=\"data row0 col3\" >0.9520(0.0011)</td>\n",
       "                        <td id=\"T_64c67_row0_col4\" class=\"data row0 col4\" >0.8874(0.0043)</td>\n",
       "                        <td id=\"T_64c67_row0_col5\" class=\"data row0 col5\" >0.9515(0.0013)</td>\n",
       "                        <td id=\"T_64c67_row0_col6\" class=\"data row0 col6\" >0.8902(0.0015)</td>\n",
       "            </tr>\n",
       "    </tbody></table>"
      ],
      "text/plain": [
       "<pandas.io.formats.style.Styler at 0x275ce1bc310>"
      ]
     },
     "metadata": {},
     "output_type": "display_data"
    },
    {
     "name": "stdout",
     "output_type": "stream",
     "text": [
      "LDA on BREAST_CANCER_F1:\n"
     ]
    },
    {
     "data": {
      "text/html": [
       "<style  type=\"text/css\" >\n",
       "#T_6243e_row0_col1,#T_6243e_row0_col3{\n",
       "            font-weight:  bold;\n",
       "             text-decoration:  underline;\n",
       "        }</style><table id=\"T_6243e_\" ><thead>    <tr>        <th class=\"blank level0\" ></th>        <th class=\"col_heading level0 col0\" >Dataset</th>        <th class=\"col_heading level0 col1\" >Sample</th>        <th class=\"col_heading level0 col2\" >Linear</th>        <th class=\"col_heading level0 col3\" >Wasserstein</th>        <th class=\"col_heading level0 col4\" >KL</th>        <th class=\"col_heading level0 col5\" >FR</th>        <th class=\"col_heading level0 col6\" >NLLW</th>    </tr></thead><tbody>\n",
       "                <tr>\n",
       "                        <th id=\"T_6243e_level0_row0\" class=\"row_heading level0 row0\" >8</th>\n",
       "                        <td id=\"T_6243e_row0_col0\" class=\"data row0 col0\" >0.50</td>\n",
       "                        <td id=\"T_6243e_row0_col1\" class=\"data row0 col1\" >0.9630(0.0009)</td>\n",
       "                        <td id=\"T_6243e_row0_col2\" class=\"data row0 col2\" >0.9504(0.0012)</td>\n",
       "                        <td id=\"T_6243e_row0_col3\" class=\"data row0 col3\" >0.9630(0.0009)</td>\n",
       "                        <td id=\"T_6243e_row0_col4\" class=\"data row0 col4\" >0.9165(0.0033)</td>\n",
       "                        <td id=\"T_6243e_row0_col5\" class=\"data row0 col5\" >0.9625(0.0010)</td>\n",
       "                        <td id=\"T_6243e_row0_col6\" class=\"data row0 col6\" >0.9188(0.0011)</td>\n",
       "            </tr>\n",
       "    </tbody></table>"
      ],
      "text/plain": [
       "<pandas.io.formats.style.Styler at 0x275ce1bc580>"
      ]
     },
     "metadata": {},
     "output_type": "display_data"
    },
    {
     "name": "stdout",
     "output_type": "stream",
     "text": [
      "QDA on BANKNOTE_ACCURACY:\n"
     ]
    },
    {
     "data": {
      "text/html": [
       "<style  type=\"text/css\" >\n",
       "#T_2416f_row0_col6{\n",
       "            font-weight:  bold;\n",
       "             text-decoration:  underline;\n",
       "        }</style><table id=\"T_2416f_\" ><thead>    <tr>        <th class=\"blank level0\" ></th>        <th class=\"col_heading level0 col0\" >Test Size</th>        <th class=\"col_heading level0 col1\" >Sample</th>        <th class=\"col_heading level0 col2\" >Linear</th>        <th class=\"col_heading level0 col3\" >Wasserstein</th>        <th class=\"col_heading level0 col4\" >KL</th>        <th class=\"col_heading level0 col5\" >FR</th>        <th class=\"col_heading level0 col6\" >NLLW</th>    </tr></thead><tbody>\n",
       "                <tr>\n",
       "                        <th id=\"T_2416f_level0_row0\" class=\"row_heading level0 row0\" >8</th>\n",
       "                        <td id=\"T_2416f_row0_col0\" class=\"data row0 col0\" >0.50</td>\n",
       "                        <td id=\"T_2416f_row0_col1\" class=\"data row0 col1\" >0.9854(0.0005)</td>\n",
       "                        <td id=\"T_2416f_row0_col2\" class=\"data row0 col2\" >0.9839(0.0005)</td>\n",
       "                        <td id=\"T_2416f_row0_col3\" class=\"data row0 col3\" >0.9854(0.0005)</td>\n",
       "                        <td id=\"T_2416f_row0_col4\" class=\"data row0 col4\" >0.9853(0.0005)</td>\n",
       "                        <td id=\"T_2416f_row0_col5\" class=\"data row0 col5\" >0.9854(0.0005)</td>\n",
       "                        <td id=\"T_2416f_row0_col6\" class=\"data row0 col6\" >0.9877(0.0004)</td>\n",
       "            </tr>\n",
       "    </tbody></table>"
      ],
      "text/plain": [
       "<pandas.io.formats.style.Styler at 0x275ce1fbaf0>"
      ]
     },
     "metadata": {},
     "output_type": "display_data"
    },
    {
     "name": "stdout",
     "output_type": "stream",
     "text": [
      "QDA on BANKNOTE_F1:\n"
     ]
    },
    {
     "data": {
      "text/html": [
       "<style  type=\"text/css\" >\n",
       "#T_52145_row0_col6{\n",
       "            font-weight:  bold;\n",
       "             text-decoration:  underline;\n",
       "        }</style><table id=\"T_52145_\" ><thead>    <tr>        <th class=\"blank level0\" ></th>        <th class=\"col_heading level0 col0\" >Test Size</th>        <th class=\"col_heading level0 col1\" >Sample</th>        <th class=\"col_heading level0 col2\" >Linear</th>        <th class=\"col_heading level0 col3\" >Wasserstein</th>        <th class=\"col_heading level0 col4\" >KL</th>        <th class=\"col_heading level0 col5\" >FR</th>        <th class=\"col_heading level0 col6\" >NLLW</th>    </tr></thead><tbody>\n",
       "                <tr>\n",
       "                        <th id=\"T_52145_level0_row0\" class=\"row_heading level0 row0\" >8</th>\n",
       "                        <td id=\"T_52145_row0_col0\" class=\"data row0 col0\" >0.50</td>\n",
       "                        <td id=\"T_52145_row0_col1\" class=\"data row0 col1\" >0.9838(0.0005)</td>\n",
       "                        <td id=\"T_52145_row0_col2\" class=\"data row0 col2\" >0.9822(0.0006)</td>\n",
       "                        <td id=\"T_52145_row0_col3\" class=\"data row0 col3\" >0.9838(0.0005)</td>\n",
       "                        <td id=\"T_52145_row0_col4\" class=\"data row0 col4\" >0.9837(0.0005)</td>\n",
       "                        <td id=\"T_52145_row0_col5\" class=\"data row0 col5\" >0.9838(0.0005)</td>\n",
       "                        <td id=\"T_52145_row0_col6\" class=\"data row0 col6\" >0.9863(0.0004)</td>\n",
       "            </tr>\n",
       "    </tbody></table>"
      ],
      "text/plain": [
       "<pandas.io.formats.style.Styler at 0x275ce1c7340>"
      ]
     },
     "metadata": {},
     "output_type": "display_data"
    },
    {
     "name": "stdout",
     "output_type": "stream",
     "text": [
      "QDA on BREAST_CANCER_ACCURACY:\n"
     ]
    },
    {
     "data": {
      "text/html": [
       "<style  type=\"text/css\" >\n",
       "#T_96927_row0_col4{\n",
       "            font-weight:  bold;\n",
       "             text-decoration:  underline;\n",
       "        }</style><table id=\"T_96927_\" ><thead>    <tr>        <th class=\"blank level0\" ></th>        <th class=\"col_heading level0 col0\" >Test Size</th>        <th class=\"col_heading level0 col1\" >Sample</th>        <th class=\"col_heading level0 col2\" >Linear</th>        <th class=\"col_heading level0 col3\" >Wasserstein</th>        <th class=\"col_heading level0 col4\" >KL</th>        <th class=\"col_heading level0 col5\" >FR</th>        <th class=\"col_heading level0 col6\" >NLLW</th>    </tr></thead><tbody>\n",
       "                <tr>\n",
       "                        <th id=\"T_96927_level0_row0\" class=\"row_heading level0 row0\" >8</th>\n",
       "                        <td id=\"T_96927_row0_col0\" class=\"data row0 col0\" >0.50</td>\n",
       "                        <td id=\"T_96927_row0_col1\" class=\"data row0 col1\" >0.9418(0.0012)</td>\n",
       "                        <td id=\"T_96927_row0_col2\" class=\"data row0 col2\" >0.8945(0.0027)</td>\n",
       "                        <td id=\"T_96927_row0_col3\" class=\"data row0 col3\" >0.9418(0.0012)</td>\n",
       "                        <td id=\"T_96927_row0_col4\" class=\"data row0 col4\" >0.9451(0.0013)</td>\n",
       "                        <td id=\"T_96927_row0_col5\" class=\"data row0 col5\" >0.9414(0.0016)</td>\n",
       "                        <td id=\"T_96927_row0_col6\" class=\"data row0 col6\" >0.6320(0.0052)</td>\n",
       "            </tr>\n",
       "    </tbody></table>"
      ],
      "text/plain": [
       "<pandas.io.formats.style.Styler at 0x275ce1fb790>"
      ]
     },
     "metadata": {},
     "output_type": "display_data"
    },
    {
     "name": "stdout",
     "output_type": "stream",
     "text": [
      "QDA on BREAST_CANCER_F1:\n"
     ]
    },
    {
     "data": {
      "text/html": [
       "<style  type=\"text/css\" >\n",
       "#T_0c0f1_row0_col4{\n",
       "            font-weight:  bold;\n",
       "             text-decoration:  underline;\n",
       "        }</style><table id=\"T_0c0f1_\" ><thead>    <tr>        <th class=\"blank level0\" ></th>        <th class=\"col_heading level0 col0\" >Test Size</th>        <th class=\"col_heading level0 col1\" >Sample</th>        <th class=\"col_heading level0 col2\" >Linear</th>        <th class=\"col_heading level0 col3\" >Wasserstein</th>        <th class=\"col_heading level0 col4\" >KL</th>        <th class=\"col_heading level0 col5\" >FR</th>        <th class=\"col_heading level0 col6\" >NLLW</th>    </tr></thead><tbody>\n",
       "                <tr>\n",
       "                        <th id=\"T_0c0f1_level0_row0\" class=\"row_heading level0 row0\" >8</th>\n",
       "                        <td id=\"T_0c0f1_row0_col0\" class=\"data row0 col0\" >0.50</td>\n",
       "                        <td id=\"T_0c0f1_row0_col1\" class=\"data row0 col1\" >0.9548(0.0009)</td>\n",
       "                        <td id=\"T_0c0f1_row0_col2\" class=\"data row0 col2\" >0.9214(0.0018)</td>\n",
       "                        <td id=\"T_0c0f1_row0_col3\" class=\"data row0 col3\" >0.9548(0.0009)</td>\n",
       "                        <td id=\"T_0c0f1_row0_col4\" class=\"data row0 col4\" >0.9565(0.0011)</td>\n",
       "                        <td id=\"T_0c0f1_row0_col5\" class=\"data row0 col5\" >0.9539(0.0014)</td>\n",
       "                        <td id=\"T_0c0f1_row0_col6\" class=\"data row0 col6\" >0.7530(0.0123)</td>\n",
       "            </tr>\n",
       "    </tbody></table>"
      ],
      "text/plain": [
       "<pandas.io.formats.style.Styler at 0x275ce1bcfd0>"
      ]
     },
     "metadata": {},
     "output_type": "display_data"
    }
   ],
   "source": [
    "import os\n",
    "import pandas as pd\n",
    "from IPython.display import display\n",
    "\n",
    "def highlight_max_in_row(row, comparison_df, cols_to_highlight):\n",
    "    \"\"\"\n",
    "    Apply bold and underline style to the maximum value in the specified columns of a row.\n",
    "    \"\"\"\n",
    "    # Find the max value in the specified columns for the row\n",
    "    values = comparison_df.loc[row.name, cols_to_highlight]\n",
    "    max_value = values.max()\n",
    "    # Apply bold and underline style to the cell with the max value\n",
    "    return ['font-weight: bold; text-decoration: underline' if val == max_value else '' for val in values]\n",
    "\n",
    "def process_csv_file(file_path, cols_to_highlight):\n",
    "    # Read CSV file\n",
    "    df = pd.read_csv(file_path)\n",
    "    if 'Dataset' in df.columns:\n",
    "        df = df.loc[df.Dataset==0.5]\n",
    "    else:\n",
    "        df = df.loc[df['Test Size']==0.5]\n",
    "    \n",
    "    # Limiting the first column to 2 digits\n",
    "    df.iloc[:, 0] = df.iloc[:, 0].apply(lambda x: f'{x:.2f}')\n",
    "    \n",
    "    # Extract numeric values for comparison\n",
    "    comparison_df = df[cols_to_highlight].applymap(lambda x: float(x.split('(')[0]))\n",
    "    \n",
    "    # Apply styling for highlighting max values in each row\n",
    "    styler = df.style.apply(lambda row: highlight_max_in_row(row, comparison_df, cols_to_highlight), axis=1, subset=cols_to_highlight)\n",
    "    \n",
    "    return styler\n",
    "\n",
    "def print_csv_table(folder_path):\n",
    "    cols_to_highlight = ['Sample', 'Linear', 'Wasserstein', 'KL', 'FR', 'NLLW']\n",
    "    \n",
    "    for root, dirs, files in os.walk(folder_path):\n",
    "        # Skip hidden folders\n",
    "        if os.path.basename(root).startswith('.'):\n",
    "            continue\n",
    "\n",
    "        for file in files:\n",
    "            if file.endswith(\".csv\"):\n",
    "                # Extract folder and filename without extension\n",
    "                folder_name = os.path.basename(root).upper()\n",
    "                file_name = os.path.splitext(file)[0].upper()\n",
    "\n",
    "                print(f'{folder_name} on {file_name}:')\n",
    "                \n",
    "                # Process and display the CSV file\n",
    "                styler = process_csv_file(os.path.join(root, file), cols_to_highlight)\n",
    "                display(styler)  # Use the display function to show the DataFrame with styles in Jupyter Notebook\n",
    "\n",
    "# Example usage\n",
    "parent_folder = 'results/'\n",
    "print_csv_table(parent_folder)"
   ]
  }
 ],
 "metadata": {
  "kernelspec": {
   "display_name": "Python [conda env:standard]",
   "language": "python",
   "name": "conda-env-standard-py"
  },
  "language_info": {
   "codemirror_mode": {
    "name": "ipython",
    "version": 3
   },
   "file_extension": ".py",
   "mimetype": "text/x-python",
   "name": "python",
   "nbconvert_exporter": "python",
   "pygments_lexer": "ipython3",
   "version": "3.8.13"
  }
 },
 "nbformat": 4,
 "nbformat_minor": 5
}
