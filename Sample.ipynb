{
 "cells": [
  {
   "cell_type": "markdown",
   "metadata": {},
   "source": [
    "# Sample.ipynb\n",
    "This notebook showcases the basic functionality of the package."
   ]
  },
  {
   "cell_type": "markdown",
   "metadata": {},
   "source": [
    "## Preparation\n",
    "Perform imports and create as sample covariance matrix."
   ]
  },
  {
   "cell_type": "code",
   "execution_count": 1,
   "metadata": {},
   "outputs": [],
   "source": [
    "import numpy as np"
   ]
  },
  {
   "cell_type": "code",
   "execution_count": 2,
   "metadata": {},
   "outputs": [
    {
     "name": "stdout",
     "output_type": "stream",
     "text": [
      "Sample covariance matrix:\n",
      "[[1 0 0]\n",
      " [0 2 0]\n",
      " [0 0 3]]\n"
     ]
    }
   ],
   "source": [
    "sigma_hat = np.diag((1,2,3))\n",
    "print('Sample covariance matrix:')\n",
    "print(sigma_hat)"
   ]
  },
  {
   "cell_type": "markdown",
   "metadata": {},
   "source": [
    "## Estimation methods"
   ]
  },
  {
   "cell_type": "code",
   "execution_count": 3,
   "metadata": {},
   "outputs": [],
   "source": [
    "import covariance_DRO"
   ]
  },
  {
   "cell_type": "code",
   "execution_count": 4,
   "metadata": {},
   "outputs": [
    {
     "name": "stdout",
     "output_type": "stream",
     "text": [
      "\n",
      "    Estimate Covariance matrix using distributionally robust optimization\n",
      "    \n",
      "    Parameters\n",
      "    ----------\n",
      "    sigma_hat : numpy.ndarray\n",
      "        the sample covariance matrix\n",
      "    epsilon : float\n",
      "        the radius of the uncertainty ball \n",
      "    method : string\n",
      "        the method to use. must be one of the following:\n",
      "        'KLdirect', ...\n",
      "    tol : float, optional\n",
      "        stopping criterion for optimization\n",
      "    maxit : float or int, optional\n",
      "        maximum number of iterations for optimization\n",
      "        \n",
      "    Raises\n",
      "    ------\n",
      "    ValueError\n",
      "        negative ball radius\n",
      "    ValueError\n",
      "        invalid method\n",
      "    ValueError\n",
      "        non-positive-semidefinite covariance matrix\n",
      "        \n",
      "    Returns\n",
      "    -------\n",
      "    sigma_star : numpy ndarray\n",
      "        the estimated covariance matrix\n",
      "    \n"
     ]
    }
   ],
   "source": [
    "print(covariance_DRO.estimate_cov.__doc__)"
   ]
  },
  {
   "cell_type": "markdown",
   "metadata": {},
   "source": [
    "### KLdirect method"
   ]
  },
  {
   "cell_type": "code",
   "execution_count": 5,
   "metadata": {},
   "outputs": [],
   "source": [
    "# calculate covariance matrix with direct KL-method\n",
    "sigma_star = covariance_DRO.estimate_cov(sigma_hat, 1e-2, 'KLdirect')"
   ]
  },
  {
   "cell_type": "code",
   "execution_count": 6,
   "metadata": {},
   "outputs": [
    {
     "name": "stdout",
     "output_type": "stream",
     "text": [
      "Sigma_star using KLdirect\n",
      "[[0.90080037 0.         0.        ]\n",
      " [0.         1.47096271 0.        ]\n",
      " [0.         0.         1.8050465 ]]\n"
     ]
    }
   ],
   "source": [
    "print('Sigma_star using KLdirect')\n",
    "print(sigma_star)"
   ]
  },
  {
   "cell_type": "markdown",
   "metadata": {},
   "source": [
    "### More methods to be added soon..."
   ]
  },
  {
   "cell_type": "code",
   "execution_count": null,
   "metadata": {},
   "outputs": [],
   "source": []
  }
 ],
 "metadata": {
  "kernelspec": {
   "display_name": "Python 3",
   "language": "python",
   "name": "python3"
  },
  "language_info": {
   "codemirror_mode": {
    "name": "ipython",
    "version": 3
   },
   "file_extension": ".py",
   "mimetype": "text/x-python",
   "name": "python",
   "nbconvert_exporter": "python",
   "pygments_lexer": "ipython3",
   "version": "3.7.4"
  }
 },
 "nbformat": 4,
 "nbformat_minor": 2
}
